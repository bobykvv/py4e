{
  "nbformat": 4,
  "nbformat_minor": 0,
  "metadata": {
    "colab": {
      "name": "SQLITE.ipynb",
      "provenance": [],
      "collapsed_sections": [],
      "toc_visible": true,
      "authorship_tag": "ABX9TyMARXsCsabkHZ5dvGtA41dh",
      "include_colab_link": true
    },
    "kernelspec": {
      "name": "python3",
      "display_name": "Python 3"
    },
    "language_info": {
      "name": "python"
    }
  },
  "cells": [
    {
      "cell_type": "markdown",
      "metadata": {
        "id": "view-in-github",
        "colab_type": "text"
      },
      "source": [
        "<a href=\"https://colab.research.google.com/github/bobykvv/py4e/blob/main/SQLITE.ipynb\" target=\"_parent\"><img src=\"https://colab.research.google.com/assets/colab-badge.svg\" alt=\"Open In Colab\"/></a>"
      ]
    },
    {
      "cell_type": "code",
      "metadata": {
        "id": "-7I3oSGIKSWB"
      },
      "source": [
        "import sqlite3"
      ],
      "execution_count": null,
      "outputs": []
    },
    {
      "cell_type": "code",
      "metadata": {
        "id": "AdQiiCaLh0CO"
      },
      "source": [
        "conn = sqlite3.connect('mbox.sqlite')\n",
        "cur = conn.cursor()"
      ],
      "execution_count": null,
      "outputs": []
    },
    {
      "cell_type": "code",
      "metadata": {
        "colab": {
          "base_uri": "https://localhost:8080/"
        },
        "id": "FnYa8sHaiN5p",
        "outputId": "fa8147a5-b70d-4ee2-a528-a70fd0215eac"
      },
      "source": [
        "cur.execute('DROP TABLE IF EXISTS Counts')"
      ],
      "execution_count": null,
      "outputs": [
        {
          "output_type": "execute_result",
          "data": {
            "text/plain": [
              "<sqlite3.Cursor at 0x7fed71467570>"
            ]
          },
          "metadata": {
            "tags": []
          },
          "execution_count": 60
        }
      ]
    },
    {
      "cell_type": "code",
      "metadata": {
        "colab": {
          "base_uri": "https://localhost:8080/"
        },
        "id": "cQYkFCWYixPo",
        "outputId": "5b48ed03-1c3c-404c-bd7e-a549ec0b473c"
      },
      "source": [
        "cur.execute('CREATE TABLE Counts (org TEXT, count INTEGER)')"
      ],
      "execution_count": null,
      "outputs": [
        {
          "output_type": "execute_result",
          "data": {
            "text/plain": [
              "<sqlite3.Cursor at 0x7fed71467570>"
            ]
          },
          "metadata": {
            "tags": []
          },
          "execution_count": 61
        }
      ]
    },
    {
      "cell_type": "code",
      "metadata": {
        "colab": {
          "base_uri": "https://localhost:8080/"
        },
        "id": "y8ShbYidjBZ0",
        "outputId": "f466c3a4-59f8-4b28-8a16-e9c5c46c91f3"
      },
      "source": [
        "fname = input('Input filename: >> ')\n",
        "if len(fname) < 1:\n",
        "  fname = 'mbox.txt'\n",
        "fh = open(fname)\n",
        "for line in fh:\n",
        "  if not line.startswith('From: '):\n",
        "    continue\n",
        "  else:\n",
        "    splittedline = line.split()\n",
        "    domain = splittedline[1].split('@')[1]\n",
        "    cur.execute('SELECT count FROM Counts WHERE org = ?', (domain,))\n",
        "    row = cur.fetchone()\n",
        "    if row is None:\n",
        "      cur.execute('INSERT INTO Counts (org, count) VALUES (?, 1)', (domain,))\n",
        "    else:\n",
        "      cur.execute('UPDATE Counts SET count = count+1 WHERE org = ?', (domain,))\n",
        "    conn.commit()\n",
        "\n"
      ],
      "execution_count": null,
      "outputs": [
        {
          "output_type": "stream",
          "text": [
            "Input filename: >> \n"
          ],
          "name": "stdout"
        }
      ]
    },
    {
      "cell_type": "code",
      "metadata": {
        "colab": {
          "base_uri": "https://localhost:8080/"
        },
        "id": "9uuotI_ksw3b",
        "outputId": "918dae3a-0d54-447f-bff1-92af768d8c16"
      },
      "source": [
        "sqlstr = 'SELECT org, count FROM COUNTS ORDER BY count DESC LIMIT 10'\n",
        "\n",
        "for row in cur.execute(sqlstr):\n",
        "  print(row[0], row[1])\n"
      ],
      "execution_count": null,
      "outputs": [
        {
          "output_type": "stream",
          "text": [
            "iupui.edu 536\n",
            "umich.edu 491\n",
            "indiana.edu 178\n",
            "caret.cam.ac.uk 157\n",
            "vt.edu 110\n",
            "uct.ac.za 96\n",
            "media.berkeley.edu 56\n",
            "ufp.pt 28\n",
            "gmail.com 25\n",
            "et.gatech.edu 17\n"
          ],
          "name": "stdout"
        }
      ]
    },
    {
      "cell_type": "code",
      "metadata": {
        "id": "7Ru2Wyx9u1y2"
      },
      "source": [
        "cur.close()"
      ],
      "execution_count": null,
      "outputs": []
    }
  ]
}